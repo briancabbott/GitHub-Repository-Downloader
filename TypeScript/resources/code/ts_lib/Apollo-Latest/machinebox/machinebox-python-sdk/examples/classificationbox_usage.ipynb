{
 "cells": [
  {
   "cell_type": "markdown",
   "metadata": {},
   "source": [
    "Run Classificationbox with:\n",
    "```\n",
    "sudo docker run -p 8080:8080 -e \"MB_KEY=$MB_KEY\" machinebox/classificationbox\n",
    "```"
   ]
  },
  {
   "cell_type": "code",
   "execution_count": 1,
   "metadata": {},
   "outputs": [],
   "source": [
    "import sys\n",
    "sys.path.append(\"../\") # go to parent dir\n",
    "\n",
    "import os.path\n",
    "import requests\n",
    "import shutil\n",
    "import json\n",
    "\n",
    "from PIL import Image\n",
    "import io\n",
    "\n",
    "from machinebox.classificationbox import Classificationbox\n",
    "from machinebox.core import valid_image_file\n",
    "import matplotlib.pyplot as plt\n",
    "%matplotlib inline"
   ]
  },
  {
   "cell_type": "code",
   "execution_count": 2,
   "metadata": {},
   "outputs": [],
   "source": [
    "from pathlib import Path\n",
    "root_dir = Path(os.getcwd()).parent"
   ]
  },
  {
   "cell_type": "code",
   "execution_count": 3,
   "metadata": {},
   "outputs": [],
   "source": [
    "classificationbox = Classificationbox() # ip_address='localhosty'"
   ]
  },
  {
   "cell_type": "code",
   "execution_count": 4,
   "metadata": {},
   "outputs": [
    {
     "data": {
      "text/plain": [
       "[{'id': '5bff9525b42969f3', 'name': 'mod2'},\n",
       " {'id': '5bff9612e146741e', 'name': 'mod2'},\n",
       " {'id': 'sentiment1', 'name': 'sentimentModel'},\n",
       " {'id': '5bff91daae880915', 'name': 'mod1'},\n",
       " {'id': '5bff91e87456ba62', 'name': 'mod1'},\n",
       " {'id': '5bff9505dd552729', 'name': 'mod1'},\n",
       " {'id': '5bff9515e8966352', 'name': 'mod1'}]"
      ]
     },
     "execution_count": 4,
     "metadata": {},
     "output_type": "execute_result"
    }
   ],
   "source": [
    "classificationbox.get_models()"
   ]
  },
  {
   "cell_type": "code",
   "execution_count": 5,
   "metadata": {},
   "outputs": [],
   "source": [
    "model_name = \"mod3\"\n",
    "model_classes = [\"dogs\"] # , \"cats\""
   ]
  },
  {
   "cell_type": "code",
   "execution_count": 6,
   "metadata": {},
   "outputs": [
    {
     "name": "stdout",
     "output_type": "stream",
     "text": [
      "API response code : 400\n",
      "API response description : b'You need at least two classes to create a model'\n"
     ]
    }
   ],
   "source": [
    "classificationbox.create_model(model_name, model_classes)"
   ]
  },
  {
   "cell_type": "code",
   "execution_count": null,
   "metadata": {},
   "outputs": [],
   "source": []
  }
 ],
 "metadata": {
  "kernelspec": {
   "display_name": "Python 3",
   "language": "python",
   "name": "python3"
  },
  "language_info": {
   "codemirror_mode": {
    "name": "ipython",
    "version": 3
   },
   "file_extension": ".py",
   "mimetype": "text/x-python",
   "name": "python",
   "nbconvert_exporter": "python",
   "pygments_lexer": "ipython3",
   "version": "3.6.5"
  }
 },
 "nbformat": 4,
 "nbformat_minor": 2
}
